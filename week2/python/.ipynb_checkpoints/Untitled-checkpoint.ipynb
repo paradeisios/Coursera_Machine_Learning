{
 "cells": [
  {
   "cell_type": "code",
   "execution_count": 1,
   "metadata": {},
   "outputs": [],
   "source": [
    "import numpy as np\n",
    "import pandas as pd\n",
    "import matplotlib.pyplot as plt\n",
    "from utils.featureNormalize import featureNormalize\n",
    "from utils.gradientDescentMulti import gradientDescentMulti\n",
    "from utils.normalEquation import normalEquation"
   ]
  },
  {
   "cell_type": "code",
   "execution_count": 2,
   "metadata": {},
   "outputs": [
    {
     "name": "stdout",
     "output_type": "stream",
     "text": [
      "Loading Data ...\n",
      "\n",
      "\n",
      "\n",
      "---------- First 10 examples from the dataset ----------\n",
      "        0    1         2\n",
      "0  2104.0  3.0  399900.0\n",
      "1  1600.0  3.0  329900.0\n",
      "2  2400.0  3.0  369000.0\n",
      "3  1416.0  2.0  232000.0\n",
      "4  3000.0  4.0  539900.0\n",
      "5  1985.0  4.0  299900.0\n",
      "6  1534.0  3.0  314900.0\n",
      "7  1427.0  3.0  198999.0\n",
      "8  1380.0  3.0  212000.0\n",
      "9  1494.0  3.0  242500.0\n"
     ]
    }
   ],
   "source": [
    "print('Loading Data ...\\n\\n\\n')\n",
    "data = np.loadtxt('ex1data2.txt', delimiter=\",\")\n",
    "to_view = pd.read_csv('ex1data2.txt',sep=\",\",header = None)\n",
    "X = data[:,0:2]\n",
    "y = data[:,2]\n",
    "m = len(y)\n",
    "\n",
    "print('---------- First 10 examples from the dataset ----------')\n",
    "print(pd.DataFrame(data).head(10))\n"
   ]
  },
  {
   "cell_type": "code",
   "execution_count": 6,
   "metadata": {},
   "outputs": [
    {
     "data": {
      "image/png": "[encoded data removed]",
      "text/plain": [
       "<Figure size 432x288 with 1 Axes>"
      ]
     },
     "metadata": {
      "needs_background": "light"
     },
     "output_type": "display_data"
    },
    {
     "name": "stdout",
     "output_type": "stream",
     "text": [
      "Theta computed from gradient descent: 340412.66, 109447.80, -6578.35\n"
     ]
    }
   ],
   "source": [
    "X_normalized, mu, sigma = featureNormalize(X)\n",
    "\n",
    "#### Add intercept term to X\n",
    "\n",
    "X_intercept = np.ones((m,1))\n",
    "X_padded = np.hstack((X_intercept,X_normalized))\n",
    "\n",
    "#### Gradient Descent \n",
    "\n",
    "alpha = 0.1\n",
    "num_iters = 400\n",
    "\n",
    "theta = np.zeros(3)\n",
    "theta,J_history = gradientDescentMulti(X_padded,y,theta,alpha,num_iters)\n",
    "\n",
    "# Plot the convergence graph\n",
    "\n",
    "plt.plot(range(len(J_history)),J_history,'-b', linewidth=2)\n",
    "plt.xlabel('Number of iterations')\n",
    "plt.ylabel('Cost J')\n",
    "plt.show()\n",
    "\n",
    "print('Theta computed from gradient descent: {:.2f}, {:.2f}, {:.2f}'.format(theta[0],theta[1],theta[2]))\n"
   ]
  },
  {
   "cell_type": "code",
   "execution_count": 7,
   "metadata": {},
   "outputs": [
    {
     "name": "stdout",
     "output_type": "stream",
     "text": [
      "Predicted price of a 1650 sq-ft, 3 br house (using gradient descent): $340413\n"
     ]
    }
   ],
   "source": [
    "# Estimate the price of a 1650 sq-ft, 3 br house\n",
    "X_features = np.array([1, 1650, 3])\n",
    "X_features [1:3] = (X_features [1:3] - mu) / sigma\n",
    "price = np.dot(X_features, theta)\n",
    "\n",
    "print('Predicted price of a 1650 sq-ft, 3 br house (using gradient descent): ${:.0f}'.format(price))"
   ]
  },
  {
   "cell_type": "code",
   "execution_count": 8,
   "metadata": {},
   "outputs": [
    {
     "name": "stdout",
     "output_type": "stream",
     "text": [
      "Solving with normal equations...\n",
      "Theta computed from the normal equations: 340412.66, 109447.80, -6578.35\n",
      "Predicted price of a 1650 sq-ft, 3 br house (using the normal equation): $340413\n"
     ]
    }
   ],
   "source": [
    "print('Solving with normal equations...')\n",
    "\n",
    "data = np.loadtxt('ex1data2.txt', delimiter=\",\")\n",
    "X = data[:,0:2]\n",
    "y = data[:,2]\n",
    "m = len(y)\n",
    "X_intercept = np.ones((m,1))\n",
    "X_padded = np.hstack((X_intercept,X_normalized))\n",
    "\n",
    "theta = normalEquation(X_padded,y)\n",
    "print('Theta computed from the normal equations: {:.2f}, {:.2f}, {:.2f}'.format(theta[0],theta[1],theta[2]))\n",
    "\n",
    "X_features = np.array([1, 1650, 3])\n",
    "X_features [1:3] = (X_features [1:3] - mu) / sigma\n",
    "price = np.dot(X_features, theta)\n",
    "\n",
    "print('Predicted price of a 1650 sq-ft, 3 br house (using the normal equation): ${:.0f}'.format(price))\n"
   ]
  },
  {
   "cell_type": "code",
   "execution_count": null,
   "metadata": {},
   "outputs": [],
   "source": []
  }
 ],
 "metadata": {
  "kernelspec": {
   "display_name": "Python 3",
   "language": "python",
   "name": "python3"
  },
  "language_info": {
   "codemirror_mode": {
    "name": "ipython",
    "version": 3
   },
   "file_extension": ".py",
   "mimetype": "text/x-python",
   "name": "python",
   "nbconvert_exporter": "python",
   "pygments_lexer": "ipython3",
   "version": "3.7.6"
  }
 },
 "nbformat": 4,
 "nbformat_minor": 4
}
